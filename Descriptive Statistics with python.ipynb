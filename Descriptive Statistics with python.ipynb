{
 "cells": [
  {
   "cell_type": "code",
   "execution_count": 7,
   "metadata": {},
   "outputs": [
    {
     "name": "stdout",
     "output_type": "stream",
     "text": [
      "Requirement already satisfied: scirpy in /srv/conda/envs/notebook/lib/python3.8/site-packages (0.3)\n",
      "Requirement already satisfied: python-igraph in /srv/conda/envs/notebook/lib/python3.8/site-packages (from scirpy) (0.8.2)\n",
      "Requirement already satisfied: scikit-learn in /srv/conda/envs/notebook/lib/python3.8/site-packages (from scirpy) (0.23.2)\n",
      "Requirement already satisfied: squarify in /srv/conda/envs/notebook/lib/python3.8/site-packages (from scirpy) (0.4.3)\n",
      "Requirement already satisfied: tqdm>=4.29.1 in /srv/conda/envs/notebook/lib/python3.8/site-packages (from scirpy) (4.48.2)\n",
      "Requirement already satisfied: networkx in /srv/conda/envs/notebook/lib/python3.8/site-packages (from scirpy) (2.4)\n",
      "Requirement already satisfied: scanpy>=1.5.1 in /srv/conda/envs/notebook/lib/python3.8/site-packages (from scirpy) (1.6.0)\n",
      "Requirement already satisfied: python-levenshtein in /srv/conda/envs/notebook/lib/python3.8/site-packages (from scirpy) (0.12.0)\n",
      "Requirement already satisfied: anndata>=0.7.3 in /srv/conda/envs/notebook/lib/python3.8/site-packages (from scirpy) (0.7.4)\n",
      "Requirement already satisfied: scipy in /srv/conda/envs/notebook/lib/python3.8/site-packages (from scirpy) (1.5.0)\n",
      "Requirement already satisfied: parasail in /srv/conda/envs/notebook/lib/python3.8/site-packages (from scirpy) (1.2)\n",
      "Requirement already satisfied: pandas>=0.21 in /srv/conda/envs/notebook/lib/python3.8/site-packages (from scirpy) (1.0.5)\n",
      "Requirement already satisfied: numpy in /srv/conda/envs/notebook/lib/python3.8/site-packages (from scirpy) (1.18.5)\n",
      "Requirement already satisfied: get_version in /srv/conda/envs/notebook/lib/python3.8/site-packages (from scirpy) (2.1)\n",
      "Requirement already satisfied: airr in /srv/conda/envs/notebook/lib/python3.8/site-packages (from scirpy) (1.3.0)\n",
      "Requirement already satisfied: texttable>=1.6.2 in /srv/conda/envs/notebook/lib/python3.8/site-packages (from python-igraph->scirpy) (1.6.2)\n",
      "Requirement already satisfied: threadpoolctl>=2.0.0 in /srv/conda/envs/notebook/lib/python3.8/site-packages (from scikit-learn->scirpy) (2.1.0)\n",
      "Requirement already satisfied: joblib>=0.11 in /srv/conda/envs/notebook/lib/python3.8/site-packages (from scikit-learn->scirpy) (0.16.0)\n",
      "Requirement already satisfied: decorator>=4.3.0 in /srv/conda/envs/notebook/lib/python3.8/site-packages (from networkx->scirpy) (4.4.2)\n",
      "Requirement already satisfied: seaborn in /srv/conda/envs/notebook/lib/python3.8/site-packages (from scanpy>=1.5.1->scirpy) (0.10.1)\n",
      "Requirement already satisfied: legacy-api-wrap in /srv/conda/envs/notebook/lib/python3.8/site-packages (from scanpy>=1.5.1->scirpy) (1.2)\n",
      "Requirement already satisfied: sinfo in /srv/conda/envs/notebook/lib/python3.8/site-packages (from scanpy>=1.5.1->scirpy) (0.3.1)\n",
      "Requirement already satisfied: tables in /srv/conda/envs/notebook/lib/python3.8/site-packages (from scanpy>=1.5.1->scirpy) (3.6.1)\n",
      "Requirement already satisfied: numba>=0.41.0 in /srv/conda/envs/notebook/lib/python3.8/site-packages (from scanpy>=1.5.1->scirpy) (0.51.0)\n",
      "Requirement already satisfied: patsy in /srv/conda/envs/notebook/lib/python3.8/site-packages (from scanpy>=1.5.1->scirpy) (0.5.1)\n",
      "Requirement already satisfied: natsort in /srv/conda/envs/notebook/lib/python3.8/site-packages (from scanpy>=1.5.1->scirpy) (7.0.1)\n",
      "Requirement already satisfied: setuptools-scm in /srv/conda/envs/notebook/lib/python3.8/site-packages (from scanpy>=1.5.1->scirpy) (4.1.2)\n",
      "Requirement already satisfied: statsmodels>=0.10.0rc2 in /srv/conda/envs/notebook/lib/python3.8/site-packages (from scanpy>=1.5.1->scirpy) (0.11.1)\n",
      "Requirement already satisfied: packaging in /srv/conda/envs/notebook/lib/python3.8/site-packages (from scanpy>=1.5.1->scirpy) (20.4)\n",
      "Requirement already satisfied: umap-learn>=0.3.10 in /srv/conda/envs/notebook/lib/python3.8/site-packages (from scanpy>=1.5.1->scirpy) (0.4.6)\n",
      "Requirement already satisfied: matplotlib>=3.1.2 in /srv/conda/envs/notebook/lib/python3.8/site-packages (from scanpy>=1.5.1->scirpy) (3.2.2)\n",
      "Requirement already satisfied: h5py>=2.10.0 in /srv/conda/envs/notebook/lib/python3.8/site-packages (from scanpy>=1.5.1->scirpy) (2.10.0)\n",
      "Requirement already satisfied: setuptools in /srv/conda/envs/notebook/lib/python3.8/site-packages (from python-levenshtein->scirpy) (49.1.0.post20200704)\n",
      "Requirement already satisfied: wheel in /srv/conda/envs/notebook/lib/python3.8/site-packages (from parasail->scirpy) (0.34.2)\n",
      "Requirement already satisfied: python-dateutil>=2.6.1 in /srv/conda/envs/notebook/lib/python3.8/site-packages (from pandas>=0.21->scirpy) (2.8.1)\n",
      "Requirement already satisfied: pytz>=2017.2 in /srv/conda/envs/notebook/lib/python3.8/site-packages (from pandas>=0.21->scirpy) (2020.1)\n",
      "Requirement already satisfied: pyyaml>=3.12 in /srv/conda/envs/notebook/lib/python3.8/site-packages (from airr->scirpy) (5.3.1)\n",
      "Requirement already satisfied: yamlordereddictloader>=0.4.0 in /srv/conda/envs/notebook/lib/python3.8/site-packages (from airr->scirpy) (0.4.0)\n",
      "Requirement already satisfied: stdlib-list in /srv/conda/envs/notebook/lib/python3.8/site-packages (from sinfo->scanpy>=1.5.1->scirpy) (0.7.0)\n",
      "Requirement already satisfied: numexpr>=2.6.2 in /srv/conda/envs/notebook/lib/python3.8/site-packages (from tables->scanpy>=1.5.1->scirpy) (2.7.1)\n",
      "Requirement already satisfied: llvmlite<0.35,>=0.34.0.dev0 in /srv/conda/envs/notebook/lib/python3.8/site-packages (from numba>=0.41.0->scanpy>=1.5.1->scirpy) (0.34.0)\n",
      "Requirement already satisfied: six in /srv/conda/envs/notebook/lib/python3.8/site-packages (from patsy->scanpy>=1.5.1->scirpy) (1.15.0)\n",
      "Requirement already satisfied: pyparsing>=2.0.2 in /srv/conda/envs/notebook/lib/python3.8/site-packages (from packaging->scanpy>=1.5.1->scirpy) (2.4.7)\n",
      "Requirement already satisfied: kiwisolver>=1.0.1 in /srv/conda/envs/notebook/lib/python3.8/site-packages (from matplotlib>=3.1.2->scanpy>=1.5.1->scirpy) (1.2.0)\n",
      "Requirement already satisfied: cycler>=0.10 in /srv/conda/envs/notebook/lib/python3.8/site-packages (from matplotlib>=3.1.2->scanpy>=1.5.1->scirpy) (0.10.0)\n",
      "Note: you may need to restart the kernel to use updated packages.\n"
     ]
    }
   ],
   "source": [
    "pip install scirpy"
   ]
  },
  {
   "cell_type": "code",
   "execution_count": 9,
   "metadata": {},
   "outputs": [],
   "source": [
    ">>> import math\n",
    ">>> import statistics\n",
    ">>> import numpy as np\n",
    ">>> import scipy.stats\n",
    ">>> import pandas as pd"
   ]
  },
  {
   "cell_type": "code",
   "execution_count": 42,
   "metadata": {},
   "outputs": [
    {
     "data": {
      "text/plain": [
       "[8.0, 1, 2.5, 4, 28.0]"
      ]
     },
     "execution_count": 42,
     "metadata": {},
     "output_type": "execute_result"
    }
   ],
   "source": [
    "x= [8.0,1,2.5,4,28.0]\n",
    "x_with_nan = [8.0,1,2.5, math.nan, 4,28.0]\n",
    "x"
   ]
  },
  {
   "cell_type": "code",
   "execution_count": 50,
   "metadata": {},
   "outputs": [
    {
     "data": {
      "text/plain": [
       "array([ 8. ,  1. ,  2.5,  4. , 28. ])"
      ]
     },
     "execution_count": 50,
     "metadata": {},
     "output_type": "execute_result"
    }
   ],
   "source": [
    "#A numpy array is a grid of values, all of the same type, and is indexed by a tuple of nonnegative integers.\n",
    "y, y_with_nan = np.array(x), np.array(x_with_nan)\n",
    "\n",
    "#Pandas Series is a one-dimensional labeled array capable of holding data of any type (integer, string, float, python objects, etc.). The axis labels are collectively called index. Pandas Series is nothing but a column in an excel sheet.\n",
    "z, z_with_nan = pd.Series(x), pd.Series(x_with_nan)\n",
    "y"
   ]
  },
  {
   "cell_type": "code",
   "execution_count": 18,
   "metadata": {},
   "outputs": [
    {
     "data": {
      "text/plain": [
       "array([ 8. ,  1. ,  2.5,  nan,  4. , 28. ])"
      ]
     },
     "execution_count": 18,
     "metadata": {},
     "output_type": "execute_result"
    }
   ],
   "source": [
    "y_with_nan"
   ]
  },
  {
   "cell_type": "code",
   "execution_count": 20,
   "metadata": {},
   "outputs": [
    {
     "data": {
      "text/plain": [
       "0     8.0\n",
       "1     1.0\n",
       "2     2.5\n",
       "3     NaN\n",
       "4     4.0\n",
       "5    28.0\n",
       "dtype: float64"
      ]
     },
     "execution_count": 20,
     "metadata": {},
     "output_type": "execute_result"
    }
   ],
   "source": [
    "z_with_nan"
   ]
  },
  {
   "cell_type": "code",
   "execution_count": 23,
   "metadata": {},
   "outputs": [],
   "source": [
    "mean = sum(x)/len(x)"
   ]
  },
  {
   "cell_type": "code",
   "execution_count": 25,
   "metadata": {},
   "outputs": [
    {
     "data": {
      "text/plain": [
       "8.7"
      ]
     },
     "execution_count": 25,
     "metadata": {},
     "output_type": "execute_result"
    }
   ],
   "source": [
    "mean"
   ]
  },
  {
   "cell_type": "code",
   "execution_count": 39,
   "metadata": {},
   "outputs": [
    {
     "data": {
      "text/plain": [
       "3"
      ]
     },
     "execution_count": 39,
     "metadata": {},
     "output_type": "execute_result"
    }
   ],
   "source": [
    "#>>>>>\n",
    "#len(x)= count, sum(x)\n",
    "mylist = [\"apple\", \"banana\", \"cherry\"]\n",
    "b2 = len(mylist) \n",
    "b2"
   ]
  },
  {
   "cell_type": "code",
   "execution_count": 41,
   "metadata": {},
   "outputs": [
    {
     "data": {
      "text/plain": [
       "6"
      ]
     },
     "execution_count": 41,
     "metadata": {},
     "output_type": "execute_result"
    }
   ],
   "source": [
    "#>>>>>\n",
    "mylist2 = [1, 2, 3]\n",
    "n2 = sum(mylist2)\n",
    "n2"
   ]
  },
  {
   "cell_type": "code",
   "execution_count": 44,
   "metadata": {},
   "outputs": [
    {
     "data": {
      "text/plain": [
       "8.7"
      ]
     },
     "execution_count": 44,
     "metadata": {},
     "output_type": "execute_result"
    }
   ],
   "source": [
    "mean1 = statistics.mean(x)\n",
    "mean1"
   ]
  },
  {
   "cell_type": "code",
   "execution_count": 48,
   "metadata": {},
   "outputs": [
    {
     "data": {
      "text/plain": [
       "nan"
      ]
     },
     "execution_count": 48,
     "metadata": {},
     "output_type": "execute_result"
    }
   ],
   "source": [
    "mean2 = statistics.mean(x_with_nan)\n",
    "mean2"
   ]
  },
  {
   "cell_type": "code",
   "execution_count": 53,
   "metadata": {},
   "outputs": [
    {
     "data": {
      "text/plain": [
       "8.7"
      ]
     },
     "execution_count": 53,
     "metadata": {},
     "output_type": "execute_result"
    }
   ],
   "source": [
    "mean3 = y.mean()\n",
    "mean3"
   ]
  },
  {
   "cell_type": "code",
   "execution_count": null,
   "metadata": {},
   "outputs": [],
   "source": []
  }
 ],
 "metadata": {
  "kernelspec": {
   "display_name": "Python 3",
   "language": "python",
   "name": "python3"
  },
  "language_info": {
   "codemirror_mode": {
    "name": "ipython",
    "version": 3
   },
   "file_extension": ".py",
   "mimetype": "text/x-python",
   "name": "python",
   "nbconvert_exporter": "python",
   "pygments_lexer": "ipython3",
   "version": "3.8.3"
  }
 },
 "nbformat": 4,
 "nbformat_minor": 4
}
